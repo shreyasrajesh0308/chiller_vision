{
 "cells": [
  {
   "cell_type": "markdown",
   "metadata": {},
   "source": [
    "# Colored shape Generator\n",
    "\n",
    "The aim of the dataset is to generate shapes filled in with certain colors to be used as data for the initial steps of the chiller vision project."
   ]
  },
  {
   "cell_type": "markdown",
   "metadata": {},
   "source": [
    "Library Imports"
   ]
  },
  {
   "cell_type": "code",
   "execution_count": 19,
   "metadata": {},
   "outputs": [],
   "source": [
    "from PIL import Image, ImageDraw\n",
    "import os\n",
    "from pathlib import Path\n",
    "import random "
   ]
  },
  {
   "cell_type": "markdown",
   "metadata": {},
   "source": [
    "# Generating Colours.\n",
    "\n",
    "We use the new object in Image to generate colours.\n",
    "\n",
    "We attempt to draw a shape and fill it with a set of 9 colors."
   ]
  },
  {
   "cell_type": "code",
   "execution_count": 18,
   "metadata": {},
   "outputs": [],
   "source": [
    "colors = [\"black\", \"blue\", \"brown\",\"green\", \"orange\", \"red\", \"violet\", \"white\", \"yellow\"]\n",
    "path = Path(\"/home/shreyas/vision_project/colours_data/\")\n",
    "for color in colors:\n",
    "    os.makedirs(path/color)"
   ]
  },
  {
   "cell_type": "markdown",
   "metadata": {},
   "source": [
    "# Generation for Ellipse\n",
    "\n",
    "We generate 10 images each of 3 configurations."
   ]
  },
  {
   "cell_type": "code",
   "execution_count": 29,
   "metadata": {},
   "outputs": [],
   "source": [
    "for color in colors:\n",
    "    for i in range(20, 30):\n",
    "        coordinate_1 = random.randint(0,50)\n",
    "        coordinate_2 = random.randint(10,30)\n",
    "        adder_1 = random.randint(1, 50)\n",
    "        adder_2 = random.randint(100, 200)\n",
    "        im = Image.new('RGB', (225, 250), (0, 0, 0))\n",
    "        draw = ImageDraw.Draw(im)\n",
    "        draw.ellipse((coordinate_1, coordinate_2, coordinate_1 + adder_1 + adder_2, coordinate_2 + adder_1 + adder_2), fill= color, outline=(0, 0, 0))\n",
    "\n",
    "        im.save(path/color/\"ellipse{}.jpeg\".format(i))\n"
   ]
  },
  {
   "cell_type": "markdown",
   "metadata": {},
   "source": [
    "# Generation for Rectangle \n",
    "\n",
    "Similarly for rectangles we generate 30 images for each color"
   ]
  },
  {
   "cell_type": "code",
   "execution_count": 42,
   "metadata": {},
   "outputs": [],
   "source": [
    "for color in colors:\n",
    "    for i in range(20, 30):\n",
    "        coordinate1 = random.randint(0, 50)\n",
    "        coordinate2 = random.randint(10, 30)\n",
    "        adder_1 = random.randint(1, 50)\n",
    "        adder_2 = random.randint(100, 200)\n",
    "        im = Image.new('RGB', (250, 250), (0, 0, 0))\n",
    "        draw = ImageDraw.Draw(im)\n",
    "        draw.rectangle((coordinate_1, coordinate2, coordinate1 + adder_1 + adder_2, coordinate2 + adder_2 + adder_1), fill = color, outline=(0, 0, 0))\n",
    "        im.save(path/color/\"rectangle{}.jpeg\".format(i))\n"
   ]
  },
  {
   "cell_type": "markdown",
   "metadata": {},
   "source": [
    "# Generating for Polygons\n",
    "\n",
    "Similary for polygons, with the coordinates for one side ccontinously changing"
   ]
  },
  {
   "cell_type": "code",
   "execution_count": 56,
   "metadata": {},
   "outputs": [
    {
     "ename": "NameError",
     "evalue": "name 'outline' is not defined",
     "output_type": "error",
     "traceback": [
      "\u001b[0;31m----------------------------------------------------------------------\u001b[0m",
      "\u001b[0;31mNameError\u001b[0m                            Traceback (most recent call last)",
      "\u001b[0;32m<ipython-input-56-b531d6dbb882>\u001b[0m in \u001b[0;36m<module>\u001b[0;34m\u001b[0m\n\u001b[1;32m      5\u001b[0m         \u001b[0mim\u001b[0m \u001b[0;34m=\u001b[0m \u001b[0mImage\u001b[0m\u001b[0;34m.\u001b[0m\u001b[0mnew\u001b[0m\u001b[0;34m(\u001b[0m\u001b[0;34m\"RGB\"\u001b[0m\u001b[0;34m,\u001b[0m \u001b[0;34m(\u001b[0m\u001b[0;36m500\u001b[0m\u001b[0;34m,\u001b[0m \u001b[0;36m250\u001b[0m\u001b[0;34m)\u001b[0m\u001b[0;34m,\u001b[0m \u001b[0;34m(\u001b[0m\u001b[0;36m0\u001b[0m\u001b[0;34m,\u001b[0m \u001b[0;36m0\u001b[0m\u001b[0;34m,\u001b[0m \u001b[0;36m0\u001b[0m\u001b[0;34m)\u001b[0m\u001b[0;34m)\u001b[0m\u001b[0;34m\u001b[0m\u001b[0;34m\u001b[0m\u001b[0m\n\u001b[1;32m      6\u001b[0m         \u001b[0mdraw\u001b[0m \u001b[0;34m=\u001b[0m \u001b[0mImageDraw\u001b[0m\u001b[0;34m.\u001b[0m\u001b[0mDraw\u001b[0m\u001b[0;34m(\u001b[0m\u001b[0mim\u001b[0m\u001b[0;34m)\u001b[0m\u001b[0;34m\u001b[0m\u001b[0;34m\u001b[0m\u001b[0m\n\u001b[0;32m----> 7\u001b[0;31m         \u001b[0mdraw\u001b[0m\u001b[0;34m.\u001b[0m\u001b[0mpolygon\u001b[0m\u001b[0;34m(\u001b[0m\u001b[0;34m(\u001b[0m\u001b[0;34m(\u001b[0m\u001b[0;36m200\u001b[0m\u001b[0;34m,\u001b[0m \u001b[0;36m200\u001b[0m\u001b[0;34m)\u001b[0m\u001b[0;34m,\u001b[0m \u001b[0;34m(\u001b[0m\u001b[0;36m300\u001b[0m\u001b[0;34m,\u001b[0m \u001b[0;36m100\u001b[0m\u001b[0;34m)\u001b[0m\u001b[0;34m,\u001b[0m \u001b[0;34m(\u001b[0m\u001b[0;36m250\u001b[0m\u001b[0;34m,\u001b[0m \u001b[0;36m50\u001b[0m\u001b[0;34m)\u001b[0m\u001b[0;34m,\u001b[0m \u001b[0;34m(\u001b[0m\u001b[0mcoordinate1\u001b[0m\u001b[0;34m,\u001b[0m \u001b[0mcoordinate2\u001b[0m\u001b[0;34m)\u001b[0m\u001b[0;34m)\u001b[0m\u001b[0;34m,\u001b[0m \u001b[0mfill\u001b[0m\u001b[0;34m=\u001b[0m \u001b[0moutline\u001b[0m\u001b[0;34m,\u001b[0m \u001b[0moutline\u001b[0m\u001b[0;34m=\u001b[0m\u001b[0;34m(\u001b[0m\u001b[0;36m0\u001b[0m\u001b[0;34m,\u001b[0m \u001b[0;36m0\u001b[0m\u001b[0;34m,\u001b[0m \u001b[0;36m0\u001b[0m\u001b[0;34m)\u001b[0m\u001b[0;34m)\u001b[0m\u001b[0;34m\u001b[0m\u001b[0;34m\u001b[0m\u001b[0m\n\u001b[0m\u001b[1;32m      8\u001b[0m         \u001b[0mim\u001b[0m\u001b[0;34m.\u001b[0m\u001b[0msave\u001b[0m\u001b[0;34m(\u001b[0m\u001b[0mpath\u001b[0m\u001b[0;34m/\u001b[0m\u001b[0mcolor\u001b[0m\u001b[0;34m/\u001b[0m\u001b[0;34m\"polygon{}.jpeg\"\u001b[0m\u001b[0;34m.\u001b[0m\u001b[0mformat\u001b[0m\u001b[0;34m(\u001b[0m\u001b[0mi\u001b[0m\u001b[0;34m)\u001b[0m\u001b[0;34m)\u001b[0m\u001b[0;34m\u001b[0m\u001b[0;34m\u001b[0m\u001b[0m\n",
      "\u001b[0;31mNameError\u001b[0m: name 'outline' is not defined"
     ]
    }
   ],
   "source": [
    "for color in colors:\n",
    "    for i in range(1, 50):\n",
    "        coordinate1 = random.randint(1, 400)\n",
    "        coordinate2 = random.randint(1, 400)\n",
    "        im = Image.new(\"RGB\", (500, 250), (0, 0, 0))\n",
    "        draw = ImageDraw.Draw(im)\n",
    "        draw.polygon(((200, 200), (300, 100), (250, 50), (coordinate1, coordinate2)), fill= outline, outline=(0, 0, 0))\n",
    "        im.save(path/color/\"polygon{}.jpeg\".format(i))\n"
   ]
  },
  {
   "cell_type": "code",
   "execution_count": null,
   "metadata": {},
   "outputs": [],
   "source": []
  }
 ],
 "metadata": {
  "kernelspec": {
   "display_name": "Python 3",
   "language": "python",
   "name": "python3"
  },
  "language_info": {
   "codemirror_mode": {
    "name": "ipython",
    "version": 3
   },
   "file_extension": ".py",
   "mimetype": "text/x-python",
   "name": "python",
   "nbconvert_exporter": "python",
   "pygments_lexer": "ipython3",
   "version": "3.6.9"
  }
 },
 "nbformat": 4,
 "nbformat_minor": 2
}
