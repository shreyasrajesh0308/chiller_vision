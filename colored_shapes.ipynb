{
 "cells": [
  {
   "cell_type": "markdown",
   "metadata": {},
   "source": [
    "# Colored shape Generator\n",
    "\n",
    "The aim of the dataset is to generate shapes filled in with certain colors to be used as data for the initial steps of the chiller vision project."
   ]
  },
  {
   "cell_type": "markdown",
   "metadata": {},
   "source": [
    "Library Imports"
   ]
  },
  {
   "cell_type": "code",
   "execution_count": 1,
   "metadata": {},
   "outputs": [],
   "source": [
    "from PIL import Image, ImageDraw\n",
    "import os\n",
    "from pathlib import Path\n",
    "import random "
   ]
  },
  {
   "cell_type": "markdown",
   "metadata": {},
   "source": [
    "# Generating Colours.\n",
    "\n",
    "We use the new object in Image to generate colours.\n",
    "\n",
    "We attempt to draw a shape and fill it with a set of 9 colors."
   ]
  },
  {
   "cell_type": "code",
   "execution_count": 2,
   "metadata": {},
   "outputs": [],
   "source": [
    "colors = [\"black\", \"blue\", \"brown\",\"green\", \"orange\", \"red\", \"violet\", \"white\", \"yellow\"]\n",
    "path = Path(\"/home/jupyter/chiller_vision/colored_shapes_white/\")\n",
    "for color in colors:\n",
    "    os.makedirs(path/color)"
   ]
  },
  {
   "cell_type": "markdown",
   "metadata": {},
   "source": [
    "# Generation for Ellipse\n",
    "\n",
    "We generate 10 images each of 3 configurations."
   ]
  },
  {
   "cell_type": "code",
   "execution_count": 5,
   "metadata": {},
   "outputs": [],
   "source": [
    "for color in colors:\n",
    "    for i in range(20, 30):\n",
    "        coordinate_1 = random.randint(0,50)\n",
    "        coordinate_2 = random.randint(10,30)\n",
    "        adder_1 = random.randint(1, 50)\n",
    "        adder_2 = random.randint(100, 200)\n",
    "        im = Image.new('RGB', (225, 250), (255, 255, 255))\n",
    "        draw = ImageDraw.Draw(im)\n",
    "        draw.ellipse((coordinate_1, coordinate_2, coordinate_1 + adder_1 + adder_2 , coordinate_2 + adder_2 + adder_1), fill= color, outline=(0, 0, 0))\n",
    "\n",
    "        im.save(path/color/\"ellipse{}.jpeg\".format(i))\n"
   ]
  },
  {
   "cell_type": "markdown",
   "metadata": {},
   "source": [
    "# Generation for Rectangle \n",
    "\n",
    "Similarly for rectangles we generate 30 images for each color"
   ]
  },
  {
   "cell_type": "code",
   "execution_count": 8,
   "metadata": {},
   "outputs": [],
   "source": [
    "for color in colors:\n",
    "    for i in range(20, 30):\n",
    "        coordinate1 = random.randint(0, 50)\n",
    "        coordinate2 = random.randint(10, 30)\n",
    "        adder_1 = random.randint(1, 50)\n",
    "        adder_2 = random.randint(100, 200)\n",
    "        im = Image.new('RGB', (250, 250), (255, 255, 255))\n",
    "        draw = ImageDraw.Draw(im)\n",
    "        draw.rectangle((coordinate_1, coordinate2, coordinate1 + adder_1 + adder_2, coordinate2 + adder_2 + adder_1 ), fill = color, outline=(0, 0, 0))\n",
    "        im.save(path/color/\"rectangle{}.jpeg\".format(i))\n"
   ]
  },
  {
   "cell_type": "markdown",
   "metadata": {},
   "source": [
    "# Generating for Polygons\n",
    "\n",
    "Similary for polygons, with the coordinates for one side ccontinously changing"
   ]
  },
  {
   "cell_type": "code",
   "execution_count": 9,
   "metadata": {},
   "outputs": [],
   "source": [
    "for color in colors:\n",
    "    for i in range(1, 50):\n",
    "        coordinate1 = random.randint(1, 400)\n",
    "        coordinate2 = random.randint(1, 400)\n",
    "        im = Image.new(\"RGB\", (500, 250), (255, 255, 255))\n",
    "        draw = ImageDraw.Draw(im)\n",
    "        draw.polygon(((200, 200), (300, 100), (250, 50), (coordinate1, coordinate2)), fill= color, outline=(0, 0, 0))\n",
    "        im.save(path/color/\"polygon{}.jpeg\".format(i))\n"
   ]
  },
  {
   "cell_type": "code",
   "execution_count": null,
   "metadata": {},
   "outputs": [],
   "source": []
  }
 ],
 "metadata": {
  "environment": {
   "name": "pytorch-gpu.1-4.m49",
   "type": "gcloud",
   "uri": "gcr.io/deeplearning-platform-release/pytorch-gpu.1-4:m49"
  },
  "kernelspec": {
   "display_name": "Python 3",
   "language": "python",
   "name": "python3"
  },
  "language_info": {
   "codemirror_mode": {
    "name": "ipython",
    "version": 3
   },
   "file_extension": ".py",
   "mimetype": "text/x-python",
   "name": "python",
   "nbconvert_exporter": "python",
   "pygments_lexer": "ipython3",
   "version": "3.7.6"
  }
 },
 "nbformat": 4,
 "nbformat_minor": 2
}
