{
 "cells": [
  {
   "cell_type": "markdown",
   "metadata": {},
   "source": [
    "# Script to move certain number of files into two folders train and valid\n",
    "\n",
    "Script written as a part of NUTY dataset creation"
   ]
  },
  {
   "cell_type": "markdown",
   "metadata": {},
   "source": [
    "Library imports"
   ]
  },
  {
   "cell_type": "code",
   "execution_count": 44,
   "metadata": {},
   "outputs": [],
   "source": [
    "from pathlib import Path\n",
    "import os \n",
    "import shutil"
   ]
  },
  {
   "cell_type": "markdown",
   "metadata": {},
   "source": [
    "Reading all the image files"
   ]
  },
  {
   "cell_type": "code",
   "execution_count": 51,
   "metadata": {},
   "outputs": [
    {
     "data": {
      "text/plain": [
       "[]"
      ]
     },
     "execution_count": 51,
     "metadata": {},
     "output_type": "execute_result"
    }
   ],
   "source": [
    "path_to_files = Path(\"/home/shreyas/vision_project/NUTY-bottledetection/\")\n",
    "path_to_split = Path(\"/home/shreyas/vision_project/NUTY_traintest/\")\n",
    "path_to_split.mkdir(exist_ok=True)\n",
    "all_files = path_to_files.iterdir()\n",
    "list(all_files)\n"
   ]
  },
  {
   "cell_type": "markdown",
   "metadata": {},
   "source": [
    "Creating train and valid directory"
   ]
  },
  {
   "cell_type": "code",
   "execution_count": 47,
   "metadata": {},
   "outputs": [],
   "source": [
    "path_to_train = path_to_split/\"train\"\n",
    "path_to_train.mkdir(exist_ok=True)\n"
   ]
  },
  {
   "cell_type": "code",
   "execution_count": 48,
   "metadata": {},
   "outputs": [],
   "source": [
    "path_to_valid = path_to_split/\"valid\"\n",
    "path_to_valid.mkdir(exist_ok=True)\n"
   ]
  },
  {
   "cell_type": "code",
   "execution_count": 49,
   "metadata": {},
   "outputs": [],
   "source": [
    "counter=0\n",
    "for image in path_to_files.iterdir():\n",
    "    counter +=1 \n",
    "    if counter % 4 == 0:\n",
    "        shutil.move(str(image), str(path_to_valid))\n",
    "    else:\n",
    "        shutil.move(str(image), str(path_to_train))\n",
    "        "
   ]
  },
  {
   "cell_type": "code",
   "execution_count": 42,
   "metadata": {},
   "outputs": [
    {
     "data": {
      "text/plain": [
       "[PosixPath('/home/shreyas/vision_project/NUTY-bottledetection/IMG-20200729-WA0018.jpg'),\n",
       " PosixPath('/home/shreyas/vision_project/NUTY-bottledetection/IMG-20200729-WA0012.jpg'),\n",
       " PosixPath('/home/shreyas/vision_project/NUTY-bottledetection/IMG-20200729-WA0021.jpg'),\n",
       " PosixPath('/home/shreyas/vision_project/NUTY-bottledetection/IMG-20200729-WA0007.jpg'),\n",
       " PosixPath('/home/shreyas/vision_project/NUTY-bottledetection/IMG-20200729-WA0008.jpg'),\n",
       " PosixPath('/home/shreyas/vision_project/NUTY-bottledetection/IMG-20200729-WA0013.jpg'),\n",
       " PosixPath('/home/shreyas/vision_project/NUTY-bottledetection/IMG-20200729-WA0005.jpg'),\n",
       " PosixPath('/home/shreyas/vision_project/NUTY-bottledetection/IMG-20200729-WA0023.jpg'),\n",
       " PosixPath('/home/shreyas/vision_project/NUTY-bottledetection/IMG-20200729-WA0011.jpg'),\n",
       " PosixPath('/home/shreyas/vision_project/NUTY-bottledetection/IMG-20200729-WA0004.jpg'),\n",
       " PosixPath('/home/shreyas/vision_project/NUTY-bottledetection/IMG-20200729-WA0016.jpg'),\n",
       " PosixPath('/home/shreyas/vision_project/NUTY-bottledetection/IMG-20200729-WA0019.jpg'),\n",
       " PosixPath('/home/shreyas/vision_project/NUTY-bottledetection/IMG-20200729-WA0025.jpg'),\n",
       " PosixPath('/home/shreyas/vision_project/NUTY-bottledetection/IMG-20200729-WA0009.jpg'),\n",
       " PosixPath('/home/shreyas/vision_project/NUTY-bottledetection/valid'),\n",
       " PosixPath('/home/shreyas/vision_project/NUTY-bottledetection/IMG-20200729-WA0015.jpg'),\n",
       " PosixPath('/home/shreyas/vision_project/NUTY-bottledetection/IMG-20200729-WA0014.jpg'),\n",
       " PosixPath('/home/shreyas/vision_project/NUTY-bottledetection/IMG-20200729-WA0024.jpg'),\n",
       " PosixPath('/home/shreyas/vision_project/NUTY-bottledetection/IMG-20200729-WA0017.jpg'),\n",
       " PosixPath('/home/shreyas/vision_project/NUTY-bottledetection/IMG-20200729-WA0020.jpg'),\n",
       " PosixPath('/home/shreyas/vision_project/NUTY-bottledetection/IMG-20200729-WA0003.jpg'),\n",
       " PosixPath('/home/shreyas/vision_project/NUTY-bottledetection/IMG-20200729-WA0006.jpg'),\n",
       " PosixPath('/home/shreyas/vision_project/NUTY-bottledetection/IMG-20200729-WA0022.jpg'),\n",
       " PosixPath('/home/shreyas/vision_project/NUTY-bottledetection/IMG-20200729-WA0010.jpg'),\n",
       " PosixPath('/home/shreyas/vision_project/NUTY-bottledetection/train')]"
      ]
     },
     "execution_count": 42,
     "metadata": {},
     "output_type": "execute_result"
    }
   ],
   "source": [
    "list(path_to_files.iterdir())"
   ]
  },
  {
   "cell_type": "code",
   "execution_count": null,
   "metadata": {},
   "outputs": [],
   "source": []
  }
 ],
 "metadata": {
  "kernelspec": {
   "display_name": "Python 3",
   "language": "python",
   "name": "python3"
  },
  "language_info": {
   "codemirror_mode": {
    "name": "ipython",
    "version": 3
   },
   "file_extension": ".py",
   "mimetype": "text/x-python",
   "name": "python",
   "nbconvert_exporter": "python",
   "pygments_lexer": "ipython3",
   "version": "3.6.9"
  }
 },
 "nbformat": 4,
 "nbformat_minor": 2
}
