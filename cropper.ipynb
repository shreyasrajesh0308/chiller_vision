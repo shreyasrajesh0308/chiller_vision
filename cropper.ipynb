{
 "cells": [
  {
   "cell_type": "markdown",
   "metadata": {},
   "source": [
    "# Cropper \n",
    "\n",
    "The objective of this program is to build a systematic cropper for the NUTY Image Recog Dataset.\n",
    "\n"
   ]
  },
  {
   "cell_type": "markdown",
   "metadata": {},
   "source": [
    "Imports"
   ]
  },
  {
   "cell_type": "code",
   "execution_count": 19,
   "metadata": {},
   "outputs": [],
   "source": [
    "from PIL import Image\n",
    "from pathlib import Path"
   ]
  },
  {
   "cell_type": "markdown",
   "metadata": {},
   "source": [
    "Defining the path to the directory containg the images"
   ]
  },
  {
   "cell_type": "code",
   "execution_count": 92,
   "metadata": {},
   "outputs": [
    {
     "data": {
      "text/plain": [
       "PosixPath('/home/shreyas/vision_project/Image_Recognition_NUTY/Image Recongination/KFC/Pop Corn Box/Fridge Camera/16 cm')"
      ]
     },
     "execution_count": 92,
     "metadata": {},
     "output_type": "execute_result"
    }
   ],
   "source": [
    "path_to_data = Path(\"/home/shreyas/vision_project/Image_Recognition_NUTY/Image Recongination/KFC/Pop Corn Box/Fridge Camera/16 cm/\")\n",
    "path_to_data"
   ]
  },
  {
   "cell_type": "markdown",
   "metadata": {},
   "source": [
    "Opening an image object, check to see if the pathlib object is pointing to the right place."
   ]
  },
  {
   "cell_type": "code",
   "execution_count": 93,
   "metadata": {},
   "outputs": [],
   "source": [
    "im = Image.open(path_to_data/\"My Snapshot_9.jpg\")\n",
    "im.show()"
   ]
  },
  {
   "cell_type": "markdown",
   "metadata": {},
   "source": [
    "Setting the coordinates for the cropper, this is left to the user based on requirments the values set intially by Shreyas was to obtain the entire object from the center of the image the coordinates are obtained by trial and error."
   ]
  },
  {
   "cell_type": "code",
   "execution_count": 94,
   "metadata": {},
   "outputs": [],
   "source": [
    "left = 400\n",
    "top = 100\n",
    "right = 800\n",
    "bottom = 600"
   ]
  },
  {
   "cell_type": "markdown",
   "metadata": {},
   "source": [
    "We know iterate throught the directory using the iterdir method of the Path function and store the cropped images in a different directory, change the code here as required to save in a different directory on your own local machine."
   ]
  },
  {
   "cell_type": "code",
   "execution_count": 95,
   "metadata": {},
   "outputs": [],
   "source": [
    "path_cropped = Path(\"/home/shreyas/vision_project/cropped_images/KFC_popcorn/\")\n",
    "name_counter = 0\n",
    "for entry in path_to_data.iterdir():\n",
    "    name_counter+=1\n",
    "    image = Image.open(entry)\n",
    "    image_cropped = image.crop((left, top, right, bottom))\n",
    "    image_cropped.save(path_cropped/\"cropped_{}.jpg\".format(name_counter))\n",
    "    \n"
   ]
  },
  {
   "cell_type": "code",
   "execution_count": null,
   "metadata": {},
   "outputs": [],
   "source": []
  }
 ],
 "metadata": {
  "kernelspec": {
   "display_name": "Python 3",
   "language": "python",
   "name": "python3"
  },
  "language_info": {
   "codemirror_mode": {
    "name": "ipython",
    "version": 3
   },
   "file_extension": ".py",
   "mimetype": "text/x-python",
   "name": "python",
   "nbconvert_exporter": "python",
   "pygments_lexer": "ipython3",
   "version": "3.6.9"
  }
 },
 "nbformat": 4,
 "nbformat_minor": 2
}
