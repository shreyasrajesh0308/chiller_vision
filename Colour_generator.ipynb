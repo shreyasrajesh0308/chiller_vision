{
 "cells": [
  {
   "cell_type": "markdown",
   "metadata": {},
   "source": [
    "# Colours Dataset generation.\n",
    "\n",
    "This notebook is written to generate a colours dataset used as part of the chiller vision project."
   ]
  },
  {
   "cell_type": "markdown",
   "metadata": {},
   "source": [
    "Library imports."
   ]
  },
  {
   "cell_type": "code",
   "execution_count": 20,
   "metadata": {},
   "outputs": [],
   "source": [
    "from PIL import Image\n",
    "import os \n",
    "from pathlib import Path"
   ]
  },
  {
   "cell_type": "markdown",
   "metadata": {},
   "source": [
    "# Generating Colours.\n",
    "\n",
    "We use the new object in Image to generate colours.\n",
    "\n",
    "Enter path where dataset is to be created, we create for each color 255 images, each with a set length of 256 and varying width."
   ]
  },
  {
   "cell_type": "code",
   "execution_count": 24,
   "metadata": {},
   "outputs": [],
   "source": [
    "colors = [\"black\", \"blue\", \"brown\",\"green\", \"orange\", \"red\", \"violet\", \"white\", \"yellow\"]\n",
    "path = Path(\"/home/shreyas/vision_project/colours_data/\")\n",
    "for color in colors:\n",
    "    os.makedirs(path/color)\n",
    "    for i in range(1,256):\n",
    "        im = Image.new(\"RGB\", (256, i), color)\n",
    "        im.save(path/color/\"{}{}.jpeg\".format(color, i))\n",
    "        "
   ]
  },
  {
   "cell_type": "code",
   "execution_count": null,
   "metadata": {},
   "outputs": [],
   "source": []
  },
  {
   "cell_type": "code",
   "execution_count": null,
   "metadata": {},
   "outputs": [],
   "source": []
  }
 ],
 "metadata": {
  "kernelspec": {
   "display_name": "Python 3",
   "language": "python",
   "name": "python3"
  },
  "language_info": {
   "codemirror_mode": {
    "name": "ipython",
    "version": 3
   },
   "file_extension": ".py",
   "mimetype": "text/x-python",
   "name": "python",
   "nbconvert_exporter": "python",
   "pygments_lexer": "ipython3",
   "version": "3.6.9"
  }
 },
 "nbformat": 4,
 "nbformat_minor": 2
}
